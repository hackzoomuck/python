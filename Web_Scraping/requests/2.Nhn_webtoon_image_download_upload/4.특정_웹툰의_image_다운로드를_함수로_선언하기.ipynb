def write_image(title, main_url):
    print(title, main_url)
    import requests
    from bs4 import BeautifulSoup
    import os
    
    res = requests.get(main_url)
    html = res.text
    soup = BeautifulSoup(html, 'html.parser')

    img_urls = []
    for img_url in soup.select("img[src$='.jpg']"): # tag selector img tag 
        print(img_url)
        img_urls.append(img_url['src'])

    # os로 디렉토리 생성
    dir_name = 'img/' + title
    if not os.path.isdir(dir_name):
        os.mkdir(dir_name)

    for img_url in img_urls:
        #print(img_url)
        req_header = {
            'referer':main_url
        }

        res2 = requests.get(img_url, headers=req_header)
        img_data = res2.content
        file_name = os.path.basename(img_url)
        with open(dir_name+'/'+file_name,'wb') as file:
            print('Writing to {} ({} bytes)'.format(file_name,len(img_data)))    
            file.write(img_data)      

write_image('마음의 소리','https://comic.naver.com/webtoon/detail.nhn?titleId=20853&no=1236')
