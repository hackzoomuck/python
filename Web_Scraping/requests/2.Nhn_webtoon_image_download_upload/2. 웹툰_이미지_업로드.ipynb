import requests

# 같은 폴더에 있는 f1,f2,f3 이미지파일
upload_files_dict = {
    'img1':open('f1.jpg','rb'),
    'img2':open('f2.jpg','rb'),
    'img3':open('f3.jpg','rb')
}
print(upload_files_dict) #[output] {'img1': <_io.BufferedReader name='f1.jpg'>, 'img2': <_io.BufferedReader name='f2.jpg'>, 'img3': <_io.BufferedReader name='f3.jpg'>}
print(type(open('f1.jpg','rb'))) #[output] <class '_io.BufferedReader'>
url = 'http://httpbin.org/post'
res = requests.post(url, files=upload_files_dict)
res.status_code #[output] 200

# data 자체가 json임
img1 = res.json()['files']['img1']
img1
