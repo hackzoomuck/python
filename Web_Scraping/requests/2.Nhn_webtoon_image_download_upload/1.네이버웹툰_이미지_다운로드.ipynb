import requests
import os

req_header = {
    'referer' : 'https://comic.naver.com/webtoon/detail.nhn?titleId=20853&no=1236&amp;weekday=tue'
}
img_urls = [
    'https://image-comic.pstatic.net/webtoon/20853/1236/20200720114244_fa96de82e0f47d6bf20dfc76b3944eb7_IMAG01_1.jpg',
    'https://image-comic.pstatic.net/webtoon/20853/1236/20200720114244_fa96de82e0f47d6bf20dfc76b3944eb7_IMAG01_2.jpg',
    'https://image-comic.pstatic.net/webtoon/20853/1236/20200720114244_fa96de82e0f47d6bf20dfc76b3944eb7_IMAG01_3.jpg'
]
for img_url in img_urls:
    res = requests.get(img_url,headers=req_header)
    # requests의 get응답 이미지 데이터일 경우에는 .content만 사용
    img_data = res.content 
    # 파일명만 뽑아내기
    file_name = os.path.basename(img_url) 
    print(file_name)
    with open(file_name, 'wb') as file:
        print('Writing to {} ({} bytes)'.format(file_name, len(img_data)))
        file.write(img_data)
        
