import requests
from bs4 import BeautifulSoup
from urllib.parse import urljoin

main_url = 'https://comic.naver.com/index.nhn'

res = requests.get(main_url)
html = res.text
soup = BeautifulSoup(html, 'html.parser')

print(len(soup.select('#genreRecommand h6 a')))
webtoon_list = []
for a_tag in soup.select('#genreRecommand h6 a'):
    title = a_tag.text.strip()
    link = urljoin(main_url,a_tag['href'])
    #print(title, link)
    webtoon_dict = {"title":title, "link":link}
    webtoon_list.append(webtoon_dict)

webtoon_list   
