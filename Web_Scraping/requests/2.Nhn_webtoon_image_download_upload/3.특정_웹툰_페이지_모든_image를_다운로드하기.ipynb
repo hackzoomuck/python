import requests
from bs4 import BeautifulSoup
import os

main_url = 'https://comic.naver.com/webtoon/detail.nhn?titleId=20853&no=1236&amp;weekday=tue'
res = requests.get(main_url)
html = res.text
soup = BeautifulSoup(html, 'html.parser')

img_urls = []
for img_url in soup.select("img[src$='.jpg']"): # tag selector : img tag에 src속성의 값이 .jpg로 끝나는 모든 img tag를 찾는다
    #print(img_url)
    img_urls.append(img_url['src'])
    
print(img_urls)
# os로 디렉토리 생성
if not os.path.isdir('img'):
    os.mkdir('img')
    
for img_url in img_urls:
    #print(img_url)
    req_header = {
        'referer':main_url
    }
    
    res2 = requests.get(img_url, headers=req_header)
    img_data = res2.content
    file_name = os.path.basename(img_url)
    with open('img/'+file_name,'wb') as file:
       # print('Writing to {} ({} bytes)'.format(file_name,len(img_data)))    
        file.write(img_data)      

