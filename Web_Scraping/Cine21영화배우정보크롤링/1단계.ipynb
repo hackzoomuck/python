import requests
from bs4 import BeautifulSoup
import re
import pymongo
from urllib.parse import urljoin

actor_url = 'http://www.cine21.com/rank/person/content'
#form data를 dict로 만들어서 전달하는 방법으로 할 예정.

formdata_dict = dict()
formdata_dict['section']='actor'
formdata_dict['period_start']='2020-07'
formdata_dict['gender']='all'
formdata_dict['page']=1
formdata_dict

res = requests.post(actor_url, data=formdata_dict)
print(res.ok)
soup = BeautifulSoup(res.text, 'html.parser')

actor_item_list = list()

for actor in soup.select('li.people_li div.name'):
    #print(actor)
    #print(actor.text)
    print(re.sub('\(\w*\)','',actor.text))
    
for a_tag in soup.select('li.people_li div.name a'):
    #print(a_tag['href'])
    actor_detail_url = urljoin(actor_url,a_tag['href'])
    #print(actor_detail_url)
    
    res = requests.get(actor_detail_url)
    #print(res.status_code)
    soup = BeautifulSoup(res.text, 'html.parser')
    
    
    actor_item_dict = dict()
    for li_tag in soup.select('ul.default_info li'):
        #print(li_tag)
        #print(li_tag.text)
        
        #dict의 key에 해당하는 값을 추출한다. dict['직업']
        actor_item_field = li_tag.select_one('span.tit').text #직업
        
        #print(actor_item_field)
        #dict의 value에 해당하는 값을 추출한다. dict['직업']='배우'
        #<li><span class="tit">직업</span>배우</li>
        actor_item_value = re.sub('<span.*?>.*?</span>','',str(li_tag)) #<li>배우</li>
        actor_item_value = re.sub('<.*?>','',actor_item_value) #li tag 선택됨, <li>배우</li> => 배우

#         홈페이지
        
#         http://www.gangdongwon.com 공백을 빼고 싶음
        
#         신장/체중
        actor_item_value = regex.sub('',actor_item_value)
        regex = re.compile(r'[\n\r\t]') #[]는 x y 중 하나 #http://www.gangdongwon.com 
        actor_item_value = regex.sub('',actor_item_value)
        actor_item_dict[actor_item_field] = actor_item_value #dict로 만든다
        print(actor_item_value)
    
    actor_item_list.append(actor_item_dict)
actor_item_list
