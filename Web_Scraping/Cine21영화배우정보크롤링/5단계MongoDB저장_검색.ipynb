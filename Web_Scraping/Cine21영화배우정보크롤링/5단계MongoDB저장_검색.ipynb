# warning 감추기
import warnings
warnings.filterwarnings(action='ignore')

# 1.
import pymongo
import json

#1-1) connection 생성
conn = pymongo.MongoClient(host='localhost',port=27017)
print(conn) #[output] MongoClient(host=['localhost:27017'], document_class=dict, tz_aware=False, connect=True)
#1-2) database 생성
movie = conn.movie_db #오른쪽이 db이름(movie_db), 왼쪽은 파이썬 내에서 사용되는 변수(movie)로 이름같지 않아도 됨.
print(movie) #[output] Database(MongoClient(host=['localhost:27017'], document_class=dict, tz_aware=False, connect=True), 'movie_db')
print(movie.name) #[output] movie_db
#1-3) collection 생성
actors = movie.actor_col 
print(actors) #[output] Collection(Database(MongoClient(host=['localhost:27017'], document_class=dict, tz_aware=False, connect=True), 'movie_db'), 'actor_col')
print(actors.name) #[output] actor_col
#1-4) json file open 
with open('data/actors.json','r',encoding='utf8')as file:
    json_data = json.load(file)
    actors.insert_many(json_data)

#document count
print(actors.estimated_document_count())

for doc in actors.find()[1902:]:
    print(doc) #[output] {'_id': ObjectId('5f28b4c83e8c339f4cab6ac4'), '배우이름': '문혜인', '흥행지수': 0, '출연영화': ['너와 극장에서'], '랭킹': 1905, '직업': '배우', '생년월일': '1985-04-21', '성별': '여'}
    
# 2. sort
# 기본적으로 ascending
docs = actors.find({}).sort('배우이름')
docs = actors.find({}).sort('배우이름', pymongo.DESCENDING)
# sort by multiple field 
# multiple 하게 할 때에는 list로 해준다.
docs = actors.find({}).sort([('배우이름', pymongo.ASCENDING),('랭킹',pymongo.DESCENDING)])
for idx, actor in enumerate(docs,1):
    #print(actor)
    print(idx, actor['배우이름'], actor['흥행지수'])

# 3. exists
# 필드값이 존재하는 경우에 검색
# '특기' 필드가 존재하는 경우와 존재하지 않는 경우 count
print(actors.find({'특기':{'$exists':True}}).count())
print(actors.find({'특기':{'$exists':False}}).count())

# 생년월일이 있는 배우의 이름과 생년월일 (exists 사용하지 않고)
# find({},{'배우이름':1, '생년월일':1, '_id':0}})
#docs = actors.find({},{'배우이름':1, '생년월일':1, '_id':0})
docs = actors.find({'생년월일':{'$exists':True}})
for actor in docs:
    print(actor['배우이름'],actor['생년월일'])

# '다른이름'이 '조원준'인 배우의 이름과 랭킹 다른이름을 출력하세요.

# 내 생각
# docs = actors.find({'다른 이름':'조원준'})
# print (type(docs))
# for actor in docs:
#     print (actor['배우이름'],actor['랭킹'])

# 풀이, exists를 사용하자!
for actor in actors.find({'다른 이름':{'$exists':True}, '다른 이름':'조원준'}):
    print(actor['배우이름'],actor['다른 이름'],actor['랭킹'])

# 4. 필드의 범위로 검색
# 흥행지수 10000 <= 흥행지수 <= 30000 인 배우를 검색
# count()
# 배우이름:1, 흥행지수:1, 출연영화:1, _id:0
# 내가 한 것 틀림 -> actors.find({'배우이름':{'$exists':True}, '흥행지수':{'$exists':True}, '출연영화':{'$exists':True}, '_id':{'$exists':False}}).count()
filter = {'흥행지수':{'$gte':10000, '$lte':30000}}
fields = {'배우이름':1, '흥행지수':1, '출연영화':1, '_id':0}
print(actors.find(filter).count())
for actor in actors.find(filter, fields):
    print(actor)

# 5. or, nor (not or)
# 흥행지수가 >= 15000 이거나 랭킹 <= 20 인 배우이름과 출연영화 리스트 출력하기
match = {'$or':[{'흥행지수':{'$gte':15000}},{'랭킹':{'lte':20}}]}
field = {'배우이름':1,'흥행지수':1, '랭킹':1,'출연영화':1, '_id':0}
for doc in actors.find(match,field):
    print(doc)

# $nor (not or)
# 흥행지수 >= 15000, 성별 = 남
match = {'$nor':[{'흥행지수':{'$lt':15000}},{'성별':'여'}]}
field = {'배우이름':1,'흥행지수':1, '랭킹':1,'출연영화':1, '_id':0}
print(actors.find(match).count())
for actor in actors.find(match, field):
    print(actor)
    
# 6. $sortByCount
# 소속사별 count
match = [{'$sortByCount':'$소속사'}]
match = [{'$sortByCount':'$소속사'},{'$match':{'count':{'$gte':4}}}]
for actor in actors.aggregate(match):
    print(actor)

# 7. list 검색
# 출연영화 리스트에 '반도'를 포함하는 경우
match = {'출연영화':'반도'}
# 출연영화 리스트에 '1987' 또는 '반도'를 포함하는 경우
match= {'$or':[{'출연영화':'1987'},{'출연영화':'반도'}]}
# 출연영화 리스트에 '남산의 부장들' 과 '공작' 을 포함하는 경우
match= {'출연영화':['남산의 부장들','공작']} # 조건에 만족하지 않는다. 출력되는 것이 없음.
# $all 사용
match = {'출연영화':{'$all':['남산의 부장들','공작']}}
# 출연영화의 첫번째 요소가 '결백'인 경우
match = {'출연영화.0':'결백'}
# 출연영화의 두번째 요소가 '밀양'인 경우
match = {'출연영화.1':'결백'}
# 출연영화의 갯수가 6편인 경우
match = {'출연영화':{'$size':6}}
field = {'배우이름':1, '출연영화':1, '_id':0}

for actor in actors.find(match,field):
    print(actor)

# 8. limit()
# 직없이 가수이면서 흥행지수가 높은 상위 10명의 배우는?
# sorting 한 다음에 자르기
for actor in actors.find({'직업':'가수'}).sort('흥행지수',pymongo.DESCENDING).limit(10):
    print(actor)
    
# '국가부도의 날' 에 출연한 배우를 흥행지수가 높은 순으로 10명을 출력하시요
for actor in actors.find({'출연영화':'국가부도의 날'}, {'_id':0}).sort('흥행지수',pymongo.DESCENDING).limit(10):
    print(actor)
