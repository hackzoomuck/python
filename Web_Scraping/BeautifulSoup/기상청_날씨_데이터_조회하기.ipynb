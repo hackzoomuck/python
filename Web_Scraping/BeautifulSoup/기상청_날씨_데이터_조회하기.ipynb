import requests
from bs4 import BeautifulSoup

url = "http://www.kma.go.kr/weather/forecast/mid-term-rss3.jsp"
res = requests.get(url)
html = res.text
soup = BeautifulSoup(html, 'html.parser')

print(soup.find('title').text)
print(soup.find_all('title'))
for title in soup.find_all('title'):
    print(title.text)
print(soup.find('wf').string)

for tag in soup.find_all('header'):
    print(tag)
    print(tag.find('wf').string)
    
title = soup.find('location',attrs={'wl_ver':'3'}).find('province').text
city = soup.find('location',attrs={'wl_ver':'3'}).find('city').text
print(title, city) #[output] 서울ㆍ인천ㆍ경기도 서울

# 1개의 data는 dict에 저장하고, dict를 list에 저장한다.
# list 출력
# data_tags = soup.find('location',attrs={'wl_ver':'3'}).find_all('data') 
data_tags = soup.find_all('location',attrs={'wl_ver':'3'})
datas = []
for data in data_tags:
    da_dic= {}
    da_list = []
    da_dic['province'] = data.find('province').text
    da_dic['city'] = data.find('city').text
    
    for detail_data in data.find_all('data') :
        data_dict = {}
        # mode. wf, tmn, tmx
        data_dict['mode'] = detail_data.find('mode').text.split()
        data_dict['wf'] = detail_data.find('wf').text.split()
        data_dict['tmn'] = detail_data.find('tmn').text.split()
        data_dict['tmx'] = detail_data.find('tmx').text.split()
        da_list.append(data_dict)
    da_dic['data'] = da_list
    datas.append(da_dic)
    
print(datas)

#json 파일로 저장
import json

with open('weather.json','w') as f:
    json.dump(datas, f)

with open('weather.json','r', encoding='utf8') as f:
    contents = f.read()
    json_data = json.loads(contents)
