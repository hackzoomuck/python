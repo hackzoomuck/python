book_html="""
<ul id="bible">
  <li id="ge" class="first">
    <ul class="second">
        <div>
            <li>
                <span>aa</span>
            </li>
        </div>
        <li>bb</li>
    </ul>
  </li>
  <li id="ex" class="first">나의첫사회생활</li>
  <li id="le" class="second">Still Me</li>
  <li id="nu" class="second">화염과 분노 : 도널드 트럼프의 백악관 뒷이야기</li>
  <li id="de">매일 좋을 수만은 없는 여행을 한다</li>
</ul>
"""
from bs4 import BeautifulSoup

soup = BeautifulSoup(book_html,'html.parser')
#ul 밑 li를 전부찾아라
print(soup.select('ul li')) #[output] line 3 ~ line 16
# type(soup.select('ul li'))는 list임.
for li_tag in soup.select('ul li'):
    print(li_tag)
    
# id가 ge 태그 가져오기
# select, select_one
print(type(soup.select('#ge')), soup.select('#ge')) #[output] <class 'list'>, line 3 ~ line 12
print(type(soup.select_one('#ge')), soup.select_one('#ge'))  #[output] <class 'bs4.element.Tag'>, line 3 ~ line 12
print(soup.select('#ge')[0].text.strip()) # type list임
print(soup.select_one('#ge').text.strip())

# class명이 second
# 전체에서 second 
print(soup.select('.second')) #[output] line 4 ~ line 11, line 14, line 15
# li에서 second
print(soup.select('li.second')) #[output] line 14, line 15
print(soup.select_one('li.second')) #[output] line 14

# find()와 find_all()
# find() === select_one(), find_all() =select()
print(type(soup.find_all('li')), soup.find_all('li')) #[output] <class 'bs4.element.ResultSet'>, line 3 ~ line 12, 6~8, 10, 13, 14, 15, 16 
print(type(soup.find('li')), soup.find('li')) #[output] <class 'bs4.element.Tag'>, line 3 ~ line 12

# li.second
print(type(soup.find_all('li')), soup.find_all('li', attrs={"class":"second"})) #[output] <class 'bs4.element.ResultSet'>, line 14, line 15
print(type(soup.find('li')), soup.find('li', attrs={"class":"second"})) #[output] <class 'bs4.element.Tag'>, line 14
print(soup.find('li', attrs={"class":"second"}).text) #[output] Still Me
print(soup.find('li', attrs={"class":"second"}).string) #[output] Still Me
print(soup.select_one('li.second').string) #[output] Still Me
print(soup.select_one('li.second').text) #[output] Still Me

# css 선택자를 입력 받아서 결과를 반환하는 lambda 함수 정의
sel = lambda ex: print(soup.select_one(ex).string)
sel('li#ex') #[output] 나의첫사회생활
sel('ul li#le') #[output] Still Me
sel('ul.second li') #[output] None (틀렸음!)
sel('ul.second > li') #[output] bb 
sel("li[id='ex']") #[output] 나의첫사회생활
sel('li:nth-of-type(5)') #[output] Still Me

