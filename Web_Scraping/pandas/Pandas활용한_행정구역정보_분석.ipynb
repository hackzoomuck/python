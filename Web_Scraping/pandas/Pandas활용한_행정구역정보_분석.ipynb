# pandas 정보 보기
pip show pandas

### read_csv() 함수
import pandas as pd

data = pd.read_csv('data/data_draw_korea.csv')
print(type(data)) #[output] <class 'pandas.core.frame.DataFrame'>

# head() 함수의 default=5
data.head(3)
data.tail(3)

# 컬럼명 property getter일듯
print(data.columns) #[output] Index(['Unnamed: 0', '인구수', 'shortName', 'x', 'y', '면적', '광역시도', '행정구역'], dtype='object')

# 인덱스
print(data.index) #[output] RangeIndex(start=0, stop=229, step=1)

# 몇 행, 몇 열
print(data.shape) #[output] (229, 8)

# info() - dataframe의 베타 정보
data.info()

# describe() - 집계함수
data.describe()

# 인구수 컬럼값의 최대, 최소, 평균
print(type(data['인구수'])) #[output] <class 'pandas.core.series.Series'>
data['인구수'].head()
print('최소', data['인구수'].min())
print('평균', data['인구수'].mean())
print('최대', data['인구수'].max())

# 컬럼명 변경
#원래 컬럼명 : 새로 바꾸고 싶은 컬럼명
data = data.rename(columns={'Unnamed: 0': 'seq'}) 
data.head(2)

### 특정 행과 열을 선택하기
# data['인구수']
# 인구수, 행정구역 2개의 컬럼 선택
data.loc[:,['인구수','행정구역']].head(2) # 왼쪽은 행을 선택하는 뭔가 인덱싱/슬라이싱 등, 오른쪽은 열

# data['인구수']
# 인구수, 행정구역, 광역시도 3개의 컬럼 선택
data.loc[:,['인구수','행정구역','광역시도']].head(2) 

# 인구수, 행정국역, 광역시도 3개의 컬럼 선택
# 특정열을 여러개 선택할때는 컬럼명을 []로 감싸준다.
col_list = ['인구수','행정구역','광역시도']
data.loc[:,col_list].head()

# 인구수 컬럼부터 면적 컬럼까지 - slicing
# 컬럼의 특정 구간을 주려면 : 를 사용한다.
data.loc[:,'인구수':'면적'].head(3)

# 1개 행만 선택
data.loc[0,:]

# 여러개의 특정행
data.loc[[],:]
data.loc[[0,3,4],:]

# 여러개의 행 (구간 - slicing)
data.loc[0:3,:] # 0:3:1
data.loc[0:10:2,:]

# 1. 20개의 행, '행정구역', '광역시도' 기져오기
data.loc[0:19:,['행정구역','광역시도']]

# 2. 10,20,30 행, '인구수'부터 '면적' 까지; 가져오기
data.loc[[10,20,30],'인구수':'면적']
