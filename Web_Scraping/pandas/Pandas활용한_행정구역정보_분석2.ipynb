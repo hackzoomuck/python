# Pandas활용한_행정구역정보_분석.ipynb 이후 내용
# iloc[] 사용
data.iloc[0:3,0:3]
data.iloc[0:20:2,0:3]

# 광역시도 이름 확인
data['광역시도'].unique()

# 광역시도 이름별로 counting
data['광역시도'].value_counts() #[output] 경기도 31 서울특별시 25 ,,,

# 광역시도 중에서 서울특별시만 찾고싶음
data['광역시도'] == '서울특별시' #[output] 0 False 1 False ,,, 80 True,,, 228 False

data.loc[data['광역시도']== '서울특별시',:] #[output] 광역시도가 서울특별시인 모든 dataframe

# 행을 선택하는 기준만 줌, 생략하면 모든 컬럼 다 가져옴.
data.loc[data['광역시도']== '서울특별시'] 

# 부산광역시의 행정구역, 인구수 컬럼을 가져오시오
data.loc[data['광역시도']=='부산광역시',['행정구역','인구수']] #[output] 광역시도가 부산광역시인 dataframe의 column이 행정구역, 인구수 인 dataframe

# 인구수 평균값
pop_mean_value = data['인구수'].mean()

# 인구수가 평균보다 낮은 행정구역 가져오기
data.loc[data['인구수']<pop_mean_value]

# 인구수가 평균보다 높고, 면적이 평균보다 높은 행정구역 가져오기
data.loc[(data['인구수']>pop_mean_value) & (data['면적']>area_mean)]

# 경기도에서 인구수가 평균보다 높은 행정구역은?
data.loc[(data['인구수']>pop_mean_value) & (data['광역시도']=='경기도')]

# 강원도에서 가장 높은 인구수는? (행, 열을 같이 줘야함)
# max 값을 뽑으려면 col를 한 개만 줘야함
data.loc[data['광역시도']=='강원도','인구수'].max() #[output] 313851

# 함수로 바꾸고 싶음 '강원도'부분만 바뀜
def max_gang(hang_name):
    return (data.loc[data['광역시도']==hang_name, '인구수'].max())
max_gang('서울특별시')    

data.loc[data['인구수'] == max_gang('서울특별시')]

def get_pop_max_def(sido):
    return data.loc[data['인구수'] == max_gang(sido), ['광역시도','행정구역','인구수']]
get_pop_max_def('부산광역시')

type(data['광역시도'].unique()) #[output] numpy.ndarray

for sido in data['광역시도'].unique():
    print(type(get_pop_max_def(sido)), get_pop_max_def(sido)) #[output] <class 'pandas.core.frame.DataFrame'> 
   
# 빈 dataframe 만들어서 넣어주기
# 새로운 DataFrame 객체 생성하기

# ['광역시도','행정구역','인구수'] 가 colum이 되어야함.
# 객체 생성
max_pop_df = pd.DataFrame(columns=['광역시도','행정구역','인구수'])
for sido in data['광역시도'].unique():
    # 누적이 되어야 하기에, append하고 대입해줘야함
    max_pop_df = max_pop_df.append(get_pop_max_def(sido)) 

# 바로 dataframe에 적용되지 않음
max_pop_df.reset_index()

# 대입해줘야 함
max_pop_df

# drop default = False임
# reset_index(drop=False) - 인덱스 조정
# 인덱스르르 변경하면서 기존 인데긋 값을 컬럼으로 변경
# drop=True로 설정하면 기존인덱스 값이 포함된 index 칼럼을 drop 하겠다.
max_pop_df = max_pop_df.reset_index(drop=True)

# 변경됨
max_pop_df

# 면적에 대해 가장 넓은 광역시도 행정구역 면적를 만들어주는 데이터프레임
def max_area(sido):
    return (data.loc[data['광역시도']==sido, '면적'].max())
def get_max_area(sido):
    return data.loc[data['면적'] == max_area(sido), ['광역시도','행정구역','면적']]

# get_max_area('서울특별시')
max_all_ar = pd.DataFrame(columns=['광역시도','행정구역','면적']) # 객체 생성
for sido in data['광역시도'].unique():
    max_all_ar = max_all_ar.append(get_max_area(sido))
max_all_ar = max_all_ar.reset_index(drop=True)
max_all_ar

max_pop_df.index #[output] RangeIndex(start=0, stop=17, step=1)

# 인덱스를 1부터 시작하는 방법
import numpy as np
# index 값을 변경
max_pop_df.index = np.arange(1,len(max_pop_df)+1)
# index 값을 조회
print(max_pop_df.index) #[output] Int64Index([1, 2, 3, 4, 5, 6, 7, 8, 9, 10, 11, 12, 13, 14, 15, 16, 17], dtype='int64')
max_pop_df

# 인구수가 많은 수로 배열 보고 싶다
# 값을 원하는 조건으로 정렬
# shift + tab : 함수 help
# ascending default true
max_pop_df.sort_values('인구수', ascending=False).reset_index(drop=True)

# 전체의 면적과 인구수의 상관관계
data['면적'].corr(data['인구수']) #[output] -0.3460

# 서울광역시의 면적과 인구수의 상관관계
seoul_df = data.loc[data['광역시도']=='서울특별시']
seoul_df['면적'].corr(seoul_df['인구수']) #[output] 0.664

