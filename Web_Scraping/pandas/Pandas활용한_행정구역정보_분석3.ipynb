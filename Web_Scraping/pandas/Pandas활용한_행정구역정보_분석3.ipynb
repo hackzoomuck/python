# Group By 기능 사용하기
data['광역시도'].value_counts() #[output] 경기도 31 서울특별시 25 ,,,

# 광역시도별 인구수의 합계
# ~ 별에 해당하는 컬럼은 groupby() 함수의 파라미터로 전달한다.
# SeriesGroupBy 객체
data['인구수'].groupby(data['광역시도']).sum() #[output] 광역시도 강원도 12354 경기도 54312 ,,,
# series의 오름차순 정렬
data['인구수'].groupby(data['광역시도']).sum().sort_values(ascending=False)
# 광역시도별 면적 합계
data['면적'].groupby(data['광역시도']).sum().sort_values(ascending=False)

# DataFrame 객체의 groupby
# 광역시도별 인구수의 합계
data.groupby('광역시도').sum()
data.groupby('광역시도')['인구수'].sum()
data.groupby('광역시도')['면적'].sum().sort_values(ascending=False)

# 광역시도별, 행정구역별 인구수
data.groupby(['광역시도','행정구역'])['인구수'].sum()

grouping_data = data.groupby(['광역시도','행정구역'])['인구수'].sum()
type(grouping_data) #[output] pandas.core.series.Series

# Excel File로 저장하기 (to_)
grouping_data.to_excel('data/광역시도행정구역별인구수.xlsx',sheet_name = '인구수')

# jupyter notebook에 플롯이 그려지게 하기 위한 설정
# 이 설정을 하면 notebook에서 show라는 함수를 호출하지 않아도 플롯이 출력됨
%matplotlib inline

import matplotlib
import matplotlib.pyplot as plt
import matplotlib.font_manager as fm
import seaborn as sns

print('matplotlib 버전 :', matplotlib.__version__)
print('seaborn 버전 :', sns.__version__)
print('pandas 버전 :', pd.__version__)

# Matplotlib에 맑은고딕 한글폰트 설정하기
font_path = 'C:\Windows\Fonts\malgun.ttf'
# font property 가져오기
font_prop = fm.FontProperties(fname=font_path).get_name()
# Matplotlib 의 rc(run command) 명령을 사용해서 한글폰트 설정
matplotlib.rc('font', family=font_prop)

# figure와 plot을 생성
figure, (axes1, axes2) = plt.subplots(nrows=2, ncols=1)
# figure size 조정
figure.set_size_inches(18, 12)
print(figure)
#print(axes1, axes2)
sns.barplot(data=seoul_df.sort_values(by='인구수',ascending=False), x='행정구역', y='인구수', ax=axes1)
sns.barplot(data=seoul_df.sort_values(by='면적',ascending=False), x='행정구역', y='면적', ax=axes2)

seoul_df

def group_sido(gang) :
    return data.loc[data['광역시도']== gang]
def show_graph(s_gang):
    figure, (axes1, axes2) = plt.subplots(nrows=2, ncols=1)
    figure.set_size_inches(18, 12)
    sido_df = group_sido(s_gang)
    sns.barplot(data=sido_df.sort_values(by='인구수',ascending=False), x='행정구역', y='인구수', ax=axes1)
    sns.barplot(data=sido_df.sort_values(by='면적',ascending=False), x='행정구역', y='면적', ax=axes2)

show_graph('부산광역시')
