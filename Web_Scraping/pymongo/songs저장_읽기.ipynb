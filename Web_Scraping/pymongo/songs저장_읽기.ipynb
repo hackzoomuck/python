import json
import pymongo

#json file read
with open('data/songs.json','r',encoding='utf8') as file:
    contents = file.read()
    json_data = json.loads(contents)

print(type(json_data))
#json_data #[ouput] <class 'list'> [{'곡명':'','가수':'','앨범':'','발매일':'','장르':'','가사':''},{}{}{}]

conn = pymongo.MongoClient()
print(conn)
song_db = conn.song_db
print(song_db)
song_col = song_db.song_col
print(song_col)

song_col.insert_many(json_data)
song_col.count_documents({}) #[output] 100

for song in song_col.find({},{"_id":0,"가사":0}): #가사랑, _id 안보이게 함
    print(song)

for genre in song_col.aggregate([{"$group":{"_id":"$장르"}}]):
    print(genre)

#genre 댄스인 곡명, 가수, 앨범, 발매일
for i in song_col.find({"장르":"댄스"},{"_id":0,"가사":0}):
    print(i)
#가수가 방탄소년단, 폴킴의 곡명, 가수, 앨범, 발매일
for i in song_col.find({"가수":{"$in":["방탄소년단","폴킴"]}},{"_id":0,"가사":0}):
    print(i)
#앨범 이름 중에서 OST가 포함된 노래의 곡명, 가수, 앨범, 발매일
for i in song_col.find({"앨범":{"$regex":"OST"}}, {"_id":0,"가사":0}):
    print(i)
#가수별 group by
for i in song_col.aggregate([{"$group":{"_id":"$가수","count":{"$sum":1}}} ]):
    print(i)
