!pip install selenium
!pip show selenium

## [ python.org->pypi->종료: 프로그램으로 해보자 ]

from selenium import webdriver
import time

# Webdriver 객체생성 : chromdrive.exe를 실행.
browser = webdriver.Chrome('./chromedriver.exe')
# python.org 요청을 보내기
browser.get('https://www.python.org/')
# pypi에 해당 element를 찾기
menus = browser.find_elements_by_css_selector("#top ul.menu li")

pypi = None
for menu in menus:
    print(menu.text)
    if menu.text == 'PyPI':
        pypi=menu
# click() 함수 실행
pypi.click()
# sleep
time.sleep(5)
# driver종료
browser.quit()

## [웹브라우저에서 html에 명시된 이미지/css/js를 모두 자동 다운로드]

from selenium import webdriver
import time

driver = webdriver.Chrome('./chromedriver.exe')
driver.get("https://www.naver.com")
driver.save_screenshot("img/naver.png")
time.sleep(3)
driver.close()
